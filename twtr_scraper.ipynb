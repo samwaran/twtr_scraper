{
 "cells": [
  {
   "cell_type": "code",
   "execution_count": 29,
   "id": "1e4cdfcb",
   "metadata": {},
   "outputs": [],
   "source": [
    "import pandas as pd\n",
    "from ntscraper import Nitter"
   ]
  },
  {
   "cell_type": "code",
   "execution_count": 30,
   "id": "7364569e",
   "metadata": {},
   "outputs": [
    {
     "name": "stderr",
     "output_type": "stream",
     "text": [
      "Testing instances: 100%|███████████████████████████████████████████████████████████████| 77/77 [00:56<00:00,  1.36it/s]\n"
     ]
    }
   ],
   "source": [
    "#searching for all Nitter instances\n",
    "#building instances\n",
    "scraper = Nitter()"
   ]
  },
  {
   "cell_type": "code",
   "execution_count": 36,
   "id": "3985fd0d",
   "metadata": {},
   "outputs": [],
   "source": [
    "#use nitter instance to scrape from twitter\n",
    "def get_tweet(user, no, from_date, to_date):\n",
    "    try:\n",
    "        tweets = scraper.get_tweets(user, number=no, since=from_date, until=to_date)\n",
    "        return tweets\n",
    "    except BaseException:\n",
    "        print(\"can't fetch tweets\")\n",
    "\n",
    "#input with tweet dictonary\n",
    "#convert and save to array\n",
    "#convert to pandas dataframw and save csv\n",
    "def save_tweet(tweets):\n",
    "    df = pd.DataFrame()\n",
    "    dummy_arr=[]\n",
    "    for tweet in tweets['tweets']:\n",
    "        data = [tweet['link'],tweet['text'], tweet['user']['name'], tweet['user']['username'], tweet['date'], tweet['stats']['likes'], tweet['stats']['retweets'], tweet['stats']['comments']]\n",
    "        dummy_arr.append(data)\n",
    "\n",
    "    df=pd.DataFrame(dummy_arr,columns=['link','text', 'to_name', 'to_username', 'date', 'likes', 'retweets', 'comments'])\n",
    "    df.to_csv('data.csv', index=None)\n",
    "    print(\"completed...100%\")"
   ]
  },
  {
   "cell_type": "code",
   "execution_count": 37,
   "id": "1eb88c15",
   "metadata": {},
   "outputs": [
    {
     "name": "stdout",
     "output_type": "stream",
     "text": [
      "Username: samwaranb\n",
      "No. of tweets: 20\n",
      "From date (YYYY-MM-DD): 2022-01-01\n",
      "To date (YYYY-MM-DD): 2022-12-01\n"
     ]
    }
   ],
   "source": [
    "#take user inputs\n",
    "\n",
    "user = str(input(\"Username: \"))\n",
    "no=int(input(\"No. of tweets: \"))\n",
    "from_date=str(input(\"From date (YYYY-MM-DD): \"))\n",
    "to_date=str(input(\"To date (YYYY-MM-DD): \"))"
   ]
  },
  {
   "cell_type": "code",
   "execution_count": 39,
   "id": "4e707d83",
   "metadata": {},
   "outputs": [
    {
     "name": "stdout",
     "output_type": "stream",
     "text": [
      "12-Feb-24 02:25:56 - No instance specified, using random instance https://nitter.mint.lgbt\n",
      "12-Feb-24 02:26:07 - Current stats for samwaranb: 17 tweets, 0 threads...\n",
      "12-Feb-24 02:26:15 - Current stats for samwaranb: 20 tweets, 0 threads...\n",
      "completed...100%\n"
     ]
    }
   ],
   "source": [
    "twt = get_tweet(user, no, from_date, to_date)\n",
    "save_tweet(twt)"
   ]
  },
  {
   "cell_type": "code",
   "execution_count": null,
   "id": "7fd0adc4",
   "metadata": {},
   "outputs": [],
   "source": []
  },
  {
   "cell_type": "code",
   "execution_count": null,
   "id": "4c9f17ee",
   "metadata": {},
   "outputs": [],
   "source": []
  },
  {
   "cell_type": "code",
   "execution_count": null,
   "id": "bc01a725",
   "metadata": {},
   "outputs": [],
   "source": []
  },
  {
   "cell_type": "code",
   "execution_count": null,
   "id": "d9e90f97",
   "metadata": {},
   "outputs": [],
   "source": [
    "#tweets.keys()"
   ]
  },
  {
   "cell_type": "code",
   "execution_count": null,
   "id": "9008b8ac",
   "metadata": {},
   "outputs": [],
   "source": []
  },
  {
   "cell_type": "code",
   "execution_count": null,
   "id": "db8c20f9",
   "metadata": {},
   "outputs": [],
   "source": [
    "#tweets['tweets'][0].keys()"
   ]
  },
  {
   "cell_type": "code",
   "execution_count": null,
   "id": "e06b8685",
   "metadata": {},
   "outputs": [],
   "source": [
    "#print(tweets['tweets'][0]['user'].keys())\n",
    "#print(tweets['tweets'][0]['stats'].keys())"
   ]
  },
  {
   "cell_type": "code",
   "execution_count": null,
   "id": "da8dd972",
   "metadata": {},
   "outputs": [],
   "source": []
  },
  {
   "cell_type": "code",
   "execution_count": null,
   "id": "a21ccbca",
   "metadata": {
    "scrolled": false
   },
   "outputs": [],
   "source": []
  },
  {
   "cell_type": "code",
   "execution_count": null,
   "id": "2d703a4d",
   "metadata": {},
   "outputs": [],
   "source": []
  },
  {
   "cell_type": "code",
   "execution_count": null,
   "id": "a6fa35bf",
   "metadata": {},
   "outputs": [],
   "source": [
    "df"
   ]
  },
  {
   "cell_type": "code",
   "execution_count": null,
   "id": "77eb1f60",
   "metadata": {},
   "outputs": [],
   "source": []
  },
  {
   "cell_type": "code",
   "execution_count": null,
   "id": "8db6ee5e",
   "metadata": {},
   "outputs": [],
   "source": []
  }
 ],
 "metadata": {
  "kernelspec": {
   "display_name": "Python 3 (ipykernel)",
   "language": "python",
   "name": "python3"
  },
  "language_info": {
   "codemirror_mode": {
    "name": "ipython",
    "version": 3
   },
   "file_extension": ".py",
   "mimetype": "text/x-python",
   "name": "python",
   "nbconvert_exporter": "python",
   "pygments_lexer": "ipython3",
   "version": "3.10.9"
  }
 },
 "nbformat": 4,
 "nbformat_minor": 5
}
